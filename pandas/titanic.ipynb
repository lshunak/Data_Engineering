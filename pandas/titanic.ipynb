{
 "cells": [
  {
   "cell_type": "code",
   "execution_count": 3,
   "metadata": {},
   "outputs": [],
   "source": [
    "import numpy as np\n",
    "import pandas as pd\n"
   ]
  },
  {
   "cell_type": "code",
   "execution_count": 4,
   "metadata": {},
   "outputs": [],
   "source": [
    "\n",
    "# Load the dataset\n",
    "df = pd.read_csv('Titanic-Dataset.csv')\n"
   ]
  },
  {
   "cell_type": "code",
   "execution_count": 5,
   "metadata": {},
   "outputs": [
    {
     "name": "stdout",
     "output_type": "stream",
     "text": [
      "Columns in the dataset\n",
      "Index(['PassengerId', 'Survived', 'Pclass', 'Name', 'Sex', 'Age', 'SibSp',\n",
      "       'Parch', 'Ticket', 'Fare', 'Cabin', 'Embarked'],\n",
      "      dtype='object')\n"
     ]
    }
   ],
   "source": [
    "\n",
    "#Get dataset details\n",
    "#get columns\n",
    "print(\"Columns in the dataset\")\n",
    "print(df.columns)\n"
   ]
  },
  {
   "cell_type": "code",
   "execution_count": 6,
   "metadata": {},
   "outputs": [
    {
     "name": "stdout",
     "output_type": "stream",
     "text": [
      "Shape of the dataset\n",
      "(891, 12)\n"
     ]
    }
   ],
   "source": [
    "#Get shape of the dataset\n",
    "print(\"Shape of the dataset\")\n",
    "print(df.shape)\n"
   ]
  },
  {
   "cell_type": "code",
   "execution_count": 7,
   "metadata": {},
   "outputs": [
    {
     "name": "stdout",
     "output_type": "stream",
     "text": [
      "Dataset info\n",
      "<class 'pandas.core.frame.DataFrame'>\n",
      "RangeIndex: 891 entries, 0 to 890\n",
      "Data columns (total 12 columns):\n",
      " #   Column       Non-Null Count  Dtype  \n",
      "---  ------       --------------  -----  \n",
      " 0   PassengerId  891 non-null    int64  \n",
      " 1   Survived     891 non-null    int64  \n",
      " 2   Pclass       891 non-null    int64  \n",
      " 3   Name         891 non-null    object \n",
      " 4   Sex          891 non-null    object \n",
      " 5   Age          714 non-null    float64\n",
      " 6   SibSp        891 non-null    int64  \n",
      " 7   Parch        891 non-null    int64  \n",
      " 8   Ticket       891 non-null    object \n",
      " 9   Fare         891 non-null    float64\n",
      " 10  Cabin        204 non-null    object \n",
      " 11  Embarked     889 non-null    object \n",
      "dtypes: float64(2), int64(5), object(5)\n",
      "memory usage: 83.7+ KB\n",
      "None\n"
     ]
    }
   ],
   "source": [
    "\n",
    "#Get dataset info\n",
    "print(\"Dataset info\")\n",
    "print(df.info())\n",
    "\n"
   ]
  },
  {
   "cell_type": "code",
   "execution_count": 15,
   "metadata": {},
   "outputs": [
    {
     "name": "stdout",
     "output_type": "stream",
     "text": [
      "Missing values in the dataset:\n",
      "PassengerId      0\n",
      "Survived         0\n",
      "Pclass           0\n",
      "Name             0\n",
      "Sex              0\n",
      "Age            177\n",
      "SibSp            0\n",
      "Parch            0\n",
      "Ticket           0\n",
      "Fare             0\n",
      "Cabin          687\n",
      "Embarked         2\n",
      "dtype: int64\n"
     ]
    }
   ],
   "source": [
    "# Check for missing values\n",
    "print(\"Missing values in the dataset:\")\n",
    "print(df.isnull().sum())\n"
   ]
  },
  {
   "cell_type": "code",
   "execution_count": 9,
   "metadata": {},
   "outputs": [
    {
     "name": "stdout",
     "output_type": "stream",
     "text": [
      "\n",
      "Missing Values Percentage:\n",
      "PassengerId     0.000000\n",
      "Survived        0.000000\n",
      "Pclass          0.000000\n",
      "Name            0.000000\n",
      "Sex             0.000000\n",
      "Age            19.865320\n",
      "SibSp           0.000000\n",
      "Parch           0.000000\n",
      "Ticket          0.000000\n",
      "Fare            0.000000\n",
      "Cabin          77.104377\n",
      "Embarked        0.224467\n",
      "dtype: float64\n"
     ]
    }
   ],
   "source": [
    "\n",
    "# Calculate missing values percentage\n",
    "missing_percentage = (df.isnull().sum() / len(df)) * 100\n",
    "print(\"\\nMissing Values Percentage:\")\n",
    "print(missing_percentage)\n"
   ]
  },
  {
   "cell_type": "code",
   "execution_count": 10,
   "metadata": {},
   "outputs": [
    {
     "name": "stdout",
     "output_type": "stream",
     "text": [
      "\n",
      "Numerical Variables Statistics:\n",
      "       PassengerId    Survived      Pclass         Age       SibSp  \\\n",
      "count   891.000000  891.000000  891.000000  714.000000  891.000000   \n",
      "mean    446.000000    0.383838    2.308642   29.699118    0.523008   \n",
      "std     257.353842    0.486592    0.836071   14.526497    1.102743   \n",
      "min       1.000000    0.000000    1.000000    0.420000    0.000000   \n",
      "25%     223.500000    0.000000    2.000000   20.125000    0.000000   \n",
      "50%     446.000000    0.000000    3.000000   28.000000    0.000000   \n",
      "75%     668.500000    1.000000    3.000000   38.000000    1.000000   \n",
      "max     891.000000    1.000000    3.000000   80.000000    8.000000   \n",
      "\n",
      "            Parch        Fare  \n",
      "count  891.000000  891.000000  \n",
      "mean     0.381594   32.204208  \n",
      "std      0.806057   49.693429  \n",
      "min      0.000000    0.000000  \n",
      "25%      0.000000    7.910400  \n",
      "50%      0.000000   14.454200  \n",
      "75%      0.000000   31.000000  \n",
      "max      6.000000  512.329200  \n"
     ]
    }
   ],
   "source": [
    "\n",
    "print(\"\\nNumerical Variables Statistics:\")\n",
    "print(df.describe())\n"
   ]
  },
  {
   "cell_type": "code",
   "execution_count": 22,
   "metadata": {},
   "outputs": [
    {
     "name": "stdout",
     "output_type": "stream",
     "text": [
      "\n",
      "Mean of PassengerId 446.0\n"
     ]
    }
   ],
   "source": [
    "count = df['PassengerId'].sum()\n",
    "mean = count/df['PassengerId'].count()\n",
    "print(\"\\nMean of PassengerId\", mean)"
   ]
  },
  {
   "cell_type": "markdown",
   "metadata": {},
   "source": [
    "Sex statistics:"
   ]
  },
  {
   "cell_type": "code",
   "execution_count": 38,
   "metadata": {},
   "outputs": [
    {
     "name": "stdout",
     "output_type": "stream",
     "text": [
      "Statistics by Sex and Class:\n",
      "\n",
      "Survival Statistics:\n",
      "       Pclass Survived          Age          Fare       \n",
      "        count    count  mean   mean median   mean median\n",
      "Sex                                                     \n",
      "female    314      314  0.74  27.92   27.0  44.48   23.0\n",
      "male      577      577  0.19  30.73   29.0  25.52   10.5\n"
     ]
    }
   ],
   "source": [
    "# 1. Statistics by Sex and Class\n",
    "print(\"Statistics by Sex and Class:\")\n",
    "sex_stats = df.groupby('Sex').agg({\n",
    "    'Pclass' : ['count'],\n",
    "    'Survived': ['count', 'mean'],\n",
    "    'Age': ['mean', 'median'],\n",
    "    'Fare': ['mean', 'median']\n",
    "}).round(2)\n",
    "\n",
    "print(\"\\nSurvival Statistics:\")\n",
    "print(sex_stats)\n"
   ]
  },
  {
   "cell_type": "markdown",
   "metadata": {},
   "source": [
    "Statistics by class:\n"
   ]
  },
  {
   "cell_type": "code",
   "execution_count": 39,
   "metadata": {},
   "outputs": [
    {
     "name": "stdout",
     "output_type": "stream",
     "text": [
      "Statistics by Sex and Class:\n",
      "\n",
      "Survival Statistics:\n",
      "         Sex Survived          Age          Fare       \n",
      "       count    count  mean   mean median   mean median\n",
      "Pclass                                                 \n",
      "1        216      216  0.63  38.23   37.0  84.15  60.29\n",
      "2        184      184  0.47  29.88   29.0  20.66  14.25\n",
      "3        491      491  0.24  25.14   24.0  13.68   8.05\n"
     ]
    }
   ],
   "source": [
    "print(\"Statistics by Sex and Class:\")\n",
    "sex_stats = df.groupby('Pclass').agg({\n",
    "    'Sex' : ['count'],\n",
    "    'Survived': ['count', 'mean'],\n",
    "    'Age': ['mean', 'median'],\n",
    "    'Fare': ['mean', 'median']\n",
    "}).round(2)\n",
    "\n",
    "print(\"\\nSurvival Statistics:\")\n",
    "print(sex_stats)"
   ]
  },
  {
   "cell_type": "code",
   "execution_count": 42,
   "metadata": {},
   "outputs": [
    {
     "name": "stdout",
     "output_type": "stream",
     "text": [
      "Statistics by Sex and Class:\n",
      "\n",
      "Survival Statistics:\n",
      "      Pclass Survived        Sex    Fare        \n",
      "       count    count mean count    mean  median\n",
      "Age                                             \n",
      "0.42       1        1  1.0     1    8.52    8.52\n",
      "0.67       1        1  1.0     1   14.50   14.50\n",
      "0.75       2        2  1.0     2   19.26   19.26\n",
      "0.83       2        2  1.0     2   23.88   23.88\n",
      "0.92       1        1  1.0     1  151.55  151.55\n",
      "...      ...      ...  ...   ...     ...     ...\n",
      "70.00      2        2  0.0     2   40.75   40.75\n",
      "70.50      1        1  0.0     1    7.75    7.75\n",
      "71.00      2        2  0.0     2   42.08   42.08\n",
      "74.00      1        1  0.0     1    7.78    7.78\n",
      "80.00      1        1  1.0     1   30.00   30.00\n",
      "\n",
      "[88 rows x 6 columns]\n"
     ]
    }
   ],
   "source": [
    "print(\"Statistics by Sex and Class:\")\n",
    "age_stats = df.groupby('Age').agg({\n",
    "    'Pclass' : ['count'],\n",
    "    'Survived': ['count', 'mean'],\n",
    "    'Sex': ['count'],\n",
    "    'Fare': ['mean', 'median']\n",
    "}).round(2)\n",
    "\n",
    "print(\"\\nSurvival Statistics:\")\n",
    "print(age_stats)"
   ]
  },
  {
   "cell_type": "markdown",
   "metadata": {},
   "source": [
    "Get first class teenagers"
   ]
  },
  {
   "cell_type": "code",
   "execution_count": 44,
   "metadata": {},
   "outputs": [
    {
     "name": "stdout",
     "output_type": "stream",
     "text": [
      "First Class Teenagers (Age 13-19):\n",
      "======================================================================\n",
      "                                                                              Name   Ticket  Age\n",
      "                                                    Fortune, Mr. Charles Alexander    19950 19.0\n",
      "                                                      Newsom, Miss. Helen Monypeny    11752 19.0\n",
      "                                           Bishop, Mrs. Dickinson H (Helen Walton)    11967 19.0\n",
      "Penasco y Castellana, Mrs. Victor de Satode (Maria Josefa Perez de Soto y Vallejo) PC 17758 17.0\n",
      "                                                        Ryerson, Miss. Emily Borie PC 17608 18.0\n",
      "                                                      Hippach, Miss. Jean Gertrude   111361 16.0\n",
      "                                                         Carter, Miss. Lucile Polk   113760 14.0\n",
      "                                                             Maioni, Miss. Roberta   110152 16.0\n",
      "                                        Penasco y Castellana, Mr. Victor de Satode PC 17758 18.0\n",
      "                                                       Thayer, Mr. John Borland Jr    17421 17.0\n",
      "                                                               Taussig, Miss. Ruth   110413 18.0\n",
      "                                                 Madill, Miss. Georgette Alexandra    24160 15.0\n",
      "                                 Astor, Mrs. John Jacob (Madeleine Talmadge Force) PC 17757 18.0\n",
      "                                                         Marvin, Mr. Daniel Warner   113773 19.0\n",
      "                                         Dick, Mrs. Albert Adrian (Vera Gillespie)    17474 17.0\n",
      "                                                         Lines, Miss. Mary Conover PC 17592 16.0\n",
      "                                                      Graham, Miss. Margaret Edith   112053 19.0\n",
      "\n",
      "Total count: 17\n"
     ]
    }
   ],
   "source": [
    "teenagers_first_class = df[\n",
    "    (df['Pclass'] == 1) & \n",
    "    (df['Age'] >= 13) & \n",
    "    (df['Age'] <= 19)\n",
    "][['Name', 'Ticket', 'Age']] \n",
    "\n",
    "print(f\"First Class Teenagers (Age 13-19):\")\n",
    "print(\"=\" * 70)\n",
    "print(teenagers_first_class.to_string(index=False))\n",
    "print(\"\\nTotal count:\", len(teenagers_first_class))\n"
   ]
  },
  {
   "cell_type": "markdown",
   "metadata": {},
   "source": [
    "sex var type"
   ]
  },
  {
   "cell_type": "code",
   "execution_count": 46,
   "metadata": {},
   "outputs": [
    {
     "name": "stdout",
     "output_type": "stream",
     "text": [
      "=== Analysis of 'Sex' Variable ===\n",
      "Variable type: object\n",
      "\n",
      "Unique values:\n",
      "['male' 'female']\n"
     ]
    }
   ],
   "source": [
    "print(\"=== Analysis of 'Sex' Variable ===\")\n",
    "print(f\"Variable type: {df['Sex'].dtype}\")\n",
    "print(\"\\nUnique values:\")\n",
    "print(df['Sex'].unique())"
   ]
  },
  {
   "cell_type": "code",
   "execution_count": 47,
   "metadata": {},
   "outputs": [],
   "source": [
    "df['Sex_Label'] = df['Sex'].map({'male': 0, 'female': 1})\n",
    "\n"
   ]
  },
  {
   "cell_type": "code",
   "execution_count": 48,
   "metadata": {},
   "outputs": [
    {
     "name": "stdout",
     "output_type": "stream",
     "text": [
      "   PassengerId  Survived  Pclass  \\\n",
      "0            1         0       3   \n",
      "1            2         1       1   \n",
      "2            3         1       3   \n",
      "3            4         1       1   \n",
      "4            5         0       3   \n",
      "5            6         0       3   \n",
      "6            7         0       1   \n",
      "7            8         0       3   \n",
      "\n",
      "                                                Name     Sex   Age  SibSp  \\\n",
      "0                            Braund, Mr. Owen Harris    male  22.0      1   \n",
      "1  Cumings, Mrs. John Bradley (Florence Briggs Th...  female  38.0      1   \n",
      "2                             Heikkinen, Miss. Laina  female  26.0      0   \n",
      "3       Futrelle, Mrs. Jacques Heath (Lily May Peel)  female  35.0      1   \n",
      "4                           Allen, Mr. William Henry    male  35.0      0   \n",
      "5                                   Moran, Mr. James    male   NaN      0   \n",
      "6                            McCarthy, Mr. Timothy J    male  54.0      0   \n",
      "7                     Palsson, Master. Gosta Leonard    male   2.0      3   \n",
      "\n",
      "   Parch            Ticket     Fare Cabin Embarked  Sex_Label  \n",
      "0      0         A/5 21171   7.2500   NaN        S          0  \n",
      "1      0          PC 17599  71.2833   C85        C          1  \n",
      "2      0  STON/O2. 3101282   7.9250   NaN        S          1  \n",
      "3      0            113803  53.1000  C123        S          1  \n",
      "4      0            373450   8.0500   NaN        S          0  \n",
      "5      0            330877   8.4583   NaN        Q          0  \n",
      "6      0             17463  51.8625   E46        S          0  \n",
      "7      1            349909  21.0750   NaN        S          0  \n"
     ]
    }
   ],
   "source": [
    "\n",
    "# Display the first 5 rows of the dataset\n",
    "print(df.head(8))"
   ]
  }
 ],
 "metadata": {
  "kernelspec": {
   "display_name": "Python 3",
   "language": "python",
   "name": "python3"
  },
  "language_info": {
   "codemirror_mode": {
    "name": "ipython",
    "version": 3
   },
   "file_extension": ".py",
   "mimetype": "text/x-python",
   "name": "python",
   "nbconvert_exporter": "python",
   "pygments_lexer": "ipython3",
   "version": "3.10.12"
  }
 },
 "nbformat": 4,
 "nbformat_minor": 2
}
