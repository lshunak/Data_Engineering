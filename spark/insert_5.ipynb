{
 "cells": [
  {
   "cell_type": "code",
   "execution_count": 5,
   "metadata": {},
   "outputs": [
    {
     "name": "stdout",
     "output_type": "stream",
     "text": [
      "for number 123 after replacement: 523\n",
      "for number 826 after replacement: 856\n",
      "for number 1004 after replacement: 5004\n",
      "for number 8 after replacement: 5\n"
     ]
    }
   ],
   "source": [
    "def replace_with_5(n):\n",
    "    num_str = str(n)\n",
    "\n",
    "\n",
    "    for i in range(len(num_str)):\n",
    "        if num_str[i] >= '5' and i != len(num_str) - 1:\n",
    "            continue\n",
    "        else:    \n",
    "            num_str = num_str[:i] + '5' + num_str[i+1:]\n",
    "            break\n",
    "    \n",
    "    return int(num_str)\n",
    "\n",
    "def main():\n",
    "    n1 = 123\n",
    "    print(f\"for number {n1} after replacement: {replace_with_5(n1)}\")\n",
    "    n2 = 826\n",
    "    print(f\"for number {n2} after replacement: {replace_with_5(n2)}\")\n",
    "    n3 = 1004\n",
    "    print(f\"for number {n3} after replacement: {replace_with_5(n3)}\")\n",
    "    n4 = 8\n",
    "    print(f\"for number {n4} after replacement: {replace_with_5(n4)}\")\n",
    "\n",
    "if __name__ == '__main__':\n",
    "    main()\n",
    "        "
   ]
  },
  {
   "cell_type": "code",
   "execution_count": null,
   "metadata": {},
   "outputs": [],
   "source": []
  }
 ],
 "metadata": {
  "kernelspec": {
   "display_name": "pyspark_env",
   "language": "python",
   "name": "python3"
  },
  "language_info": {
   "codemirror_mode": {
    "name": "ipython",
    "version": 3
   },
   "file_extension": ".py",
   "mimetype": "text/x-python",
   "name": "python",
   "nbconvert_exporter": "python",
   "pygments_lexer": "ipython3",
   "version": "3.10.12"
  }
 },
 "nbformat": 4,
 "nbformat_minor": 2
}
