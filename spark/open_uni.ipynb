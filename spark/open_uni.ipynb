{
 "cells": [
  {
   "cell_type": "markdown",
   "metadata": {},
   "source": [
    "Open university DB"
   ]
  },
  {
   "cell_type": "code",
   "execution_count": 7,
   "metadata": {},
   "outputs": [
    {
     "name": "stdout",
     "output_type": "stream",
     "text": [
      "Spark session stopped\n"
     ]
    }
   ],
   "source": [
    "from pyspark.sql import SparkSession\n",
    "\n",
    "if 'spark' in locals():\n",
    "    spark.stop()\n",
    "    print(\"Spark session stopped\")\n",
    "\n",
    "# Initialize Spark session\n",
    "spark = SparkSession.builder \\\n",
    "    .appName(\"OULAD Analysis\") \\\n",
    "    .getOrCreate()\n",
    "\n",
    "# Define the file paths\n",
    "assessments_path = \"assessments.csv\"\n",
    "courses_path = \"courses.csv\"\n",
    "student_assessment_path = \"studentAssessment.csv\"\n",
    "student_info_path = \"studentInfo.csv\"\n",
    "student_registration_path = \"studentRegistration.csv\"\n",
    "student_vle_path = \"studentVle.csv\"\n",
    "vle_path = \"vle.csv\"\n",
    "\n",
    "# Load the dataset into DataFrames\n",
    "assessments_df = spark.read.option(\"header\", \"true\").csv(assessments_path)\n",
    "courses_df = spark.read.option(\"header\", \"true\").csv(courses_path)\n",
    "student_assessment_df = spark.read.option(\"header\", \"true\").csv(student_assessment_path)\n",
    "student_info_df = spark.read.option(\"header\", \"true\").csv(student_info_path)\n",
    "student_registration_df = spark.read.option(\"header\", \"true\").csv(student_registration_path)\n",
    "student_vle_df = spark.read.option(\"header\", \"true\").csv(student_vle_path)\n",
    "vle_df = spark.read.option(\"header\", \"true\").csv(vle_path)"
   ]
  },
  {
   "cell_type": "code",
   "execution_count": 11,
   "metadata": {},
   "outputs": [
    {
     "name": "stdout",
     "output_type": "stream",
     "text": [
      "Courses DataFrame:\n",
      "+-----------+-----------------+--------------------------+\n",
      "|code_module|code_presentation|module_presentation_length|\n",
      "+-----------+-----------------+--------------------------+\n",
      "|        AAA|            2013J|                       268|\n",
      "|        AAA|            2014J|                       269|\n",
      "|        BBB|            2013J|                       268|\n",
      "|        BBB|            2014J|                       262|\n",
      "|        BBB|            2013B|                       240|\n",
      "+-----------+-----------------+--------------------------+\n",
      "only showing top 5 rows\n",
      "\n",
      "Number of rows in Assessments DataFrame: 206\n",
      "+----------+------+--------------------+\n",
      "|id_student|gender|   highest_education|\n",
      "+----------+------+--------------------+\n",
      "|     11391|     M|    HE Qualification|\n",
      "|     28400|     F|    HE Qualification|\n",
      "|     30268|     F|A Level or Equiva...|\n",
      "|     31604|     F|A Level or Equiva...|\n",
      "|     32885|     F|  Lower Than A Level|\n",
      "+----------+------+--------------------+\n",
      "only showing top 5 rows\n",
      "\n"
     ]
    }
   ],
   "source": [
    "print(\"Courses DataFrame:\")\n",
    "courses_df.show(5)\n",
    "\n",
    "print(\"Number of rows in Assessments DataFrame:\", assessments_df.count())\n",
    "\n",
    "student_info_df.select(\"id_student\", \"gender\", \"highest_education\").show(5)\n",
    "\n"
   ]
  },
  {
   "cell_type": "markdown",
   "metadata": {},
   "source": [
    "Filter rows"
   ]
  },
  {
   "cell_type": "code",
   "execution_count": 13,
   "metadata": {},
   "outputs": [
    {
     "name": "stdout",
     "output_type": "stream",
     "text": [
      "+-----------+-----------------+----------+------+--------------------+--------------------+--------+--------+--------------------+---------------+----------+------------+\n",
      "|code_module|code_presentation|id_student|gender|              region|   highest_education|imd_band|age_band|num_of_prev_attempts|studied_credits|disability|final_result|\n",
      "+-----------+-----------------+----------+------+--------------------+--------------------+--------+--------+--------------------+---------------+----------+------------+\n",
      "|        AAA|            2013J|     28400|     F|            Scotland|    HE Qualification|  20-30%|   35-55|                   0|             60|         N|        Pass|\n",
      "|        AAA|            2013J|     30268|     F|North Western Region|A Level or Equiva...|  30-40%|   35-55|                   0|             60|         Y|   Withdrawn|\n",
      "|        AAA|            2013J|     31604|     F|   South East Region|A Level or Equiva...|  50-60%|   35-55|                   0|             60|         N|        Pass|\n",
      "|        AAA|            2013J|     32885|     F|West Midlands Region|  Lower Than A Level|  50-60%|    0-35|                   0|             60|         N|        Pass|\n",
      "|        AAA|            2013J|     45642|     F|North Western Region|A Level or Equiva...| 90-100%|    0-35|                   0|            120|         N|        Pass|\n",
      "+-----------+-----------------+----------+------+--------------------+--------------------+--------+--------+--------------------+---------------+----------+------------+\n",
      "only showing top 5 rows\n",
      "\n"
     ]
    }
   ],
   "source": [
    "female_students = student_info_df.filter(student_info_df.gender == \"F\")\n",
    "female_students.show(5)"
   ]
  },
  {
   "cell_type": "markdown",
   "metadata": {},
   "source": [
    "Group operations"
   ]
  },
  {
   "cell_type": "code",
   "execution_count": 18,
   "metadata": {},
   "outputs": [
    {
     "name": "stdout",
     "output_type": "stream",
     "text": [
      "+------+-----+\n",
      "|gender|count|\n",
      "+------+-----+\n",
      "|     F|14718|\n",
      "|     M|17875|\n",
      "+------+-----+\n",
      "\n",
      "+-----------------+--------------+\n",
      "|code_presentation|total_students|\n",
      "+-----------------+--------------+\n",
      "|            2013J|          8845|\n",
      "|            2014J|         11260|\n",
      "|            2014B|          7804|\n",
      "|            2013B|          4684|\n",
      "+-----------------+--------------+\n",
      "\n",
      "+-------------+-----------------+\n",
      "|id_assessment|        avg_score|\n",
      "+-------------+-----------------+\n",
      "|        25349|73.92911585365853|\n",
      "|        25350|77.25956061838893|\n",
      "|        24285|69.29948364888124|\n",
      "|        30710|82.69076305220884|\n",
      "|        34874|72.45355850422196|\n",
      "|        14986|70.97363465160075|\n",
      "|        34868|78.36876355748373|\n",
      "|        14991| 93.8099243061396|\n",
      "|        15006|86.42434488588334|\n",
      "|        14984|71.21529324424647|\n",
      "|        25353|60.20640569395018|\n",
      "|        25364|75.01545972335232|\n",
      "|        34879| 87.9689349112426|\n",
      "|        34871|76.39145106861642|\n",
      "|        25341|66.61584158415842|\n",
      "|        30722|79.94586894586895|\n",
      "|        15012|73.29224904701398|\n",
      "|        25334|71.07106598984771|\n",
      "|        25359|63.91412213740458|\n",
      "|         1758|69.25519287833828|\n",
      "+-------------+-----------------+\n",
      "only showing top 20 rows\n",
      "\n"
     ]
    }
   ],
   "source": [
    "from pyspark.sql.functions import count, avg\n",
    "gender_count_df = student_info_df.groupby(\"gender\").agg(count(\"id_student\").alias(\"count\"))\n",
    "\n",
    "gender_count_df.show()\n",
    "\n",
    "# Count the number of students per course\n",
    "students_per_course_df = student_registration_df.groupBy(\"code_presentation\").agg(count(\"id_student\").alias(\"total_students\"))\n",
    "students_per_course_df.show()\n",
    "\n",
    "# Calculate the average score for each assessment\n",
    "avg_score_per_assessment_df = student_assessment_df.groupBy(\"id_assessment\").agg(avg(\"score\").alias(\"avg_score\"))\n",
    "avg_score_per_assessment_df.show()\n"
   ]
  },
  {
   "cell_type": "markdown",
   "metadata": {},
   "source": [
    "Joins"
   ]
  },
  {
   "cell_type": "code",
   "execution_count": 19,
   "metadata": {},
   "outputs": [
    {
     "name": "stdout",
     "output_type": "stream",
     "text": [
      "+----------+------+-----+\n",
      "|id_student|gender|score|\n",
      "+----------+------+-----+\n",
      "|     11391|     M|   78|\n",
      "|     28400|     F|   70|\n",
      "|     31604|     F|   72|\n",
      "|     32885|     F|   69|\n",
      "|     38053|     M|   79|\n",
      "+----------+------+-----+\n",
      "only showing top 5 rows\n",
      "\n"
     ]
    }
   ],
   "source": [
    "joined_df = student_info_df.join(student_assessment_df, \"id_student\")\n",
    "joined_df.select(\"id_student\", \"gender\", \"score\").show(5)"
   ]
  },
  {
   "cell_type": "code",
   "execution_count": 20,
   "metadata": {},
   "outputs": [],
   "source": [
    "spark.stop()"
   ]
  }
 ],
 "metadata": {
  "kernelspec": {
   "display_name": "pyspark_env",
   "language": "python",
   "name": "python3"
  },
  "language_info": {
   "codemirror_mode": {
    "name": "ipython",
    "version": 3
   },
   "file_extension": ".py",
   "mimetype": "text/x-python",
   "name": "python",
   "nbconvert_exporter": "python",
   "pygments_lexer": "ipython3",
   "version": "3.10.12"
  }
 },
 "nbformat": 4,
 "nbformat_minor": 2
}
