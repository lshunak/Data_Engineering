{
 "cells": [
  {
   "cell_type": "markdown",
   "metadata": {},
   "source": [
    "exercise 1:"
   ]
  },
  {
   "cell_type": "code",
   "execution_count": 9,
   "metadata": {},
   "outputs": [
    {
     "name": "stdout",
     "output_type": "stream",
     "text": [
      "The character o appears '2' times in the string 'hello world'\n"
     ]
    }
   ],
   "source": [
    "def count_times_char_apears(input_string: str, target_char: str):\n",
    "    count = 0;\n",
    "    for char in input_string:\n",
    "        if char == target_char:\n",
    "            count += 1\n",
    "\n",
    "    return count\n",
    "\n",
    "def main():\n",
    "    input_string = \"hello world\"\n",
    "    target_char = \"o\"\n",
    "    count = count_times_char_apears(input_string, target_char)\n",
    "    print(f\"The character '{target_char}' appears {count} times in the string '{input_string}'\")\n",
    "\n",
    "main()"
   ]
  },
  {
   "cell_type": "markdown",
   "metadata": {},
   "source": [
    "Exercise 2:"
   ]
  },
  {
   "cell_type": "code",
   "execution_count": 16,
   "metadata": {},
   "outputs": [
    {
     "name": "stdout",
     "output_type": "stream",
     "text": [
      "54321\n",
      "-12345\n"
     ]
    }
   ],
   "source": [
    "def flip_number(num: int):\n",
    "    result = 0\n",
    "    sign = 1\n",
    "\n",
    "    if num < 0:\n",
    "        sign = -1\n",
    "        num = -num\n",
    "\n",
    "    while num > 0:\n",
    "        result = result * 10 + num % 10\n",
    "        num = num // 10\n",
    "\n",
    "    return result*sign\n",
    "\n",
    "print(flip_number(12345))\n",
    "print(flip_number(-54321))"
   ]
  },
  {
   "cell_type": "markdown",
   "metadata": {},
   "source": [
    "Advanced:"
   ]
  },
  {
   "cell_type": "code",
   "execution_count": 27,
   "metadata": {},
   "outputs": [
    {
     "name": "stdout",
     "output_type": "stream",
     "text": [
      "5432.1\n",
      "-12345\n",
      "-5432.1\n"
     ]
    }
   ],
   "source": [
    "def flip_number_vs(num):\n",
    "    if isinstance(num, str):\n",
    "        if num[0] == '-':\n",
    "            if '.' in num:\n",
    "                return float('-' + num[1:][::-1])\n",
    "            return int('-' + num[:0:-1])\n",
    "        return num[::-1]\n",
    "    elif isinstance(num, float):\n",
    "        num_str = str(num)\n",
    "        if num_str[0] == '-':\n",
    "            return float('-' + num_str[:0:-1])\n",
    "        else:\n",
    "            return float(num_str[::-1])\n",
    "    else:\n",
    "        return flip_number(num)\n",
    "\n",
    "print(flip_number_vs(1.2345))\n",
    "print(flip_number_vs(-54321))\n",
    "print(flip_number_vs(\"-1.2345\"))"
   ]
  },
  {
   "cell_type": "markdown",
   "metadata": {},
   "source": [
    "3."
   ]
  },
  {
   "cell_type": "code",
   "execution_count": 28,
   "metadata": {},
   "outputs": [
    {
     "name": "stdout",
     "output_type": "stream",
     "text": [
      "32.0\n",
      "212.0\n",
      "77.0\n"
     ]
    }
   ],
   "source": [
    "def celcius_to_fahrenheit(celcius):\n",
    "    return celcius * 9/5 + 32\n",
    "\n",
    "print(celcius_to_fahrenheit(0))\n",
    "print(celcius_to_fahrenheit(100))\n",
    "print(celcius_to_fahrenheit(25))"
   ]
  },
  {
   "cell_type": "markdown",
   "metadata": {},
   "source": [
    "exercise 4:"
   ]
  },
  {
   "cell_type": "code",
   "execution_count": 33,
   "metadata": {},
   "outputs": [
    {
     "name": "stdout",
     "output_type": "stream",
     "text": [
      "True\n",
      "True\n",
      "False\n",
      "False\n",
      "True\n"
     ]
    }
   ],
   "source": [
    "def is_leap_year(year):\n",
    "    if ((year % 4 == 0) and (year % 100 != 0)) or (year % 400 == 0):\n",
    "        return True\n",
    "    return False\n",
    "\n",
    "print(is_leap_year(2000))\n",
    "print(is_leap_year(2004))\n",
    "print(is_leap_year(1800))\n",
    "print(is_leap_year(1991))\n",
    "print(is_leap_year(1992))"
   ]
  },
  {
   "cell_type": "markdown",
   "metadata": {},
   "source": [
    "exercise 5:"
   ]
  },
  {
   "cell_type": "code",
   "execution_count": 35,
   "metadata": {},
   "outputs": [
    {
     "name": "stdout",
     "output_type": "stream",
     "text": [
      "False\n",
      "False\n",
      "False\n",
      "True\n",
      "True\n"
     ]
    }
   ],
   "source": [
    "def check_password_comp(password):\n",
    "    if len(password) < 8:\n",
    "        return False\n",
    "    has_upper = any(c.isupper() for c in password)\n",
    "    has_lower = any(c.islower() for c in password)\n",
    "    has_digit = any(c.isdigit() for c in password)\n",
    "\n",
    "    special_chars = set('@#%&')\n",
    "    has_special = any(c in special_chars for c in password)\n",
    "\n",
    "    return all([has_upper, has_lower, has_digit, has_special])\n",
    "\n",
    "\n",
    "print(check_password_comp(\"abc123\"))\n",
    "print(check_password_comp(\"abcdefgh\"))\n",
    "print(check_password_comp(\"Abcd1234\"))\n",
    "print(check_password_comp(\"Abcd@1234\"))\n",
    "print(check_password_comp(\"Abcd%ABC123\"))\n",
    "\n",
    "\n"
   ]
  },
  {
   "cell_type": "markdown",
   "metadata": {},
   "source": [
    "Exercise 6:"
   ]
  },
  {
   "cell_type": "code",
   "execution_count": 37,
   "metadata": {},
   "outputs": [
    {
     "name": "stdout",
     "output_type": "stream",
     "text": [
      "12\n",
      "56\n",
      "992\n"
     ]
    }
   ],
   "source": [
    "def sum_of_divisors(num):\n",
    "    if num < 1:\n",
    "        return 0\n",
    "    \n",
    "    sum = 0\n",
    "    for i in range(1, num + 1):\n",
    "        if num % i == 0:\n",
    "            sum += i\n",
    "    \n",
    "    return sum\n",
    "\n",
    "print(sum_of_divisors(6))\n",
    "print(sum_of_divisors(28))\n",
    "print(sum_of_divisors(496))"
   ]
  },
  {
   "cell_type": "markdown",
   "metadata": {},
   "source": [
    "Exercise 7:"
   ]
  },
  {
   "cell_type": "code",
   "execution_count": null,
   "metadata": {},
   "outputs": [],
   "source": []
  },
  {
   "cell_type": "markdown",
   "metadata": {},
   "source": [
    "Exercise 8:"
   ]
  },
  {
   "cell_type": "code",
   "execution_count": 38,
   "metadata": {},
   "outputs": [
    {
     "name": "stdout",
     "output_type": "stream",
     "text": [
      "False\n",
      "True\n",
      "True\n",
      "False\n",
      "True\n",
      "False\n",
      "True\n"
     ]
    }
   ],
   "source": [
    "def is_prime(num):\n",
    "    if num < 2:\n",
    "        return False\n",
    "    \n",
    "    for i in range(2, num):\n",
    "        if num % i == 0:\n",
    "            return False\n",
    "    \n",
    "    return True\n",
    "\n",
    "print(is_prime(1))\n",
    "print(is_prime(2))\n",
    "print(is_prime(3))\n",
    "print(is_prime(10))\n",
    "print(is_prime(11))\n",
    "print(is_prime(35))\n",
    "print(is_prime(37)) \n"
   ]
  },
  {
   "cell_type": "code",
   "execution_count": null,
   "metadata": {},
   "outputs": [],
   "source": []
  }
 ],
 "metadata": {
  "kernelspec": {
   "display_name": "venv",
   "language": "python",
   "name": "python3"
  },
  "language_info": {
   "codemirror_mode": {
    "name": "ipython",
    "version": 3
   },
   "file_extension": ".py",
   "mimetype": "text/x-python",
   "name": "python",
   "nbconvert_exporter": "python",
   "pygments_lexer": "ipython3",
   "version": "3.10.12"
  }
 },
 "nbformat": 4,
 "nbformat_minor": 2
}
