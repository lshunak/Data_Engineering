{
 "cells": [
  {
   "cell_type": "code",
   "execution_count": 2,
   "metadata": {},
   "outputs": [
    {
     "name": "stdout",
     "output_type": "stream",
     "text": [
      "Sep    57\n",
      "Oct    52\n",
      "Nov    50\n",
      "Dec    45\n",
      "Jan    46\n",
      "Feb    40\n",
      "Mar    41\n",
      "Apr    40\n",
      "May    43\n",
      "Jun    56\n",
      "dtype: int64\n"
     ]
    }
   ],
   "source": [
    "import numpy as np\n",
    "import pandas as pd\n",
    "from pandas import Series, DataFrame\n",
    "\n",
    "g = np.random.default_rng(0)\n",
    "months = 'Sep Oct Nov Dec Jan Feb Mar Apr May Jun'.split()\n",
    "\n",
    "s = Series(g.integers(40, 60, 10),\n",
    "          index=months)\n",
    "\n",
    "print(s)"
   ]
  },
  {
   "cell_type": "markdown",
   "metadata": {},
   "source": [
    "datum that are greater than mean + std"
   ]
  },
  {
   "cell_type": "code",
   "execution_count": 4,
   "metadata": {},
   "outputs": [
    {
     "name": "stdout",
     "output_type": "stream",
     "text": [
      "Mean: 47.00\n",
      "Standard deviation: 6.41\n",
      "\n",
      "Values greater than mean + std:\n",
      "Sep    57\n",
      "Jun    56\n",
      "dtype: int64\n"
     ]
    }
   ],
   "source": [
    "mean = s.mean()\n",
    "std = s.std()\n",
    "high_values = s[s > mean + std]\n",
    "print(f\"Mean: {mean:.2f}\")\n",
    "print(f\"Standard deviation: {std:.2f}\")\n",
    "print(\"\\nValues greater than mean + std:\")\n",
    "print(high_values)"
   ]
  },
  {
   "cell_type": "markdown",
   "metadata": {},
   "source": [
    "Less than mean, more than mean-std"
   ]
  },
  {
   "cell_type": "code",
   "execution_count": 8,
   "metadata": {},
   "outputs": [
    {
     "name": "stdout",
     "output_type": "stream",
     "text": [
      "mean: 47.00\n",
      "mean - std: 40.59\n",
      "\n",
      "Values between mean - std and mean:\n",
      "Dec    45\n",
      "Jan    46\n",
      "Mar    41\n",
      "May    43\n",
      "dtype: int64\n"
     ]
    }
   ],
   "source": [
    "mid_values = s[(s > mean - std) & (s < mean)]\n",
    "print(f\"mean: {mean:.2f}\")\n",
    "print(f\"mean - std: {mean - std:.2f}\")\n",
    "print(\"\\nValues between mean - std and mean:\")\n",
    "print(mid_values)"
   ]
  },
  {
   "cell_type": "markdown",
   "metadata": {},
   "source": [
    "DataFrames"
   ]
  },
  {
   "cell_type": "code",
   "execution_count": 11,
   "metadata": {},
   "outputs": [
    {
     "name": "stdout",
     "output_type": "stream",
     "text": [
      "      Name  Age         City  Salary\n",
      "0    Alice   25     New York   50000\n",
      "1      Bob   30  Los Angeles   60000\n",
      "2  Charlie   35      Chicago   70000\n",
      "3    David   40      Houston   80000\n"
     ]
    }
   ],
   "source": [
    "import pandas as pd\n",
    "\n",
    "data = {\n",
    "    'Name': ['Alice', 'Bob', 'Charlie', 'David'],\n",
    "    'Age': [25, 30, 35, 40],\n",
    "    'City': ['New York', 'Los Angeles', 'Chicago', 'Houston'],\n",
    "    'Salary': [50000, 60000, 70000, 80000]\n",
    "}\n",
    "df = pd.DataFrame(data)\n",
    "print(df)"
   ]
  },
  {
   "cell_type": "markdown",
   "metadata": {},
   "source": [
    "filter rows where the Age is greater than 30?"
   ]
  },
  {
   "cell_type": "code",
   "execution_count": 12,
   "metadata": {},
   "outputs": [
    {
     "name": "stdout",
     "output_type": "stream",
     "text": [
      "\n",
      "People older than 30:\n",
      "      Name  Age     City  Salary\n",
      "2  Charlie   35  Chicago   70000\n",
      "3    David   40  Houston   80000\n"
     ]
    }
   ],
   "source": [
    "older_than_30 = df[df['Age'] > 30]\n",
    "print(\"\\nPeople older than 30:\")\n",
    "print(older_than_30)"
   ]
  },
  {
   "cell_type": "markdown",
   "metadata": {},
   "source": [
    "add a new column called Bonus that is 10% of the Salary"
   ]
  },
  {
   "cell_type": "code",
   "execution_count": 13,
   "metadata": {},
   "outputs": [
    {
     "name": "stdout",
     "output_type": "stream",
     "text": [
      "\n",
      "With bonus:\n",
      "      Name  Age         City  Salary   Bonus\n",
      "0    Alice   25     New York   50000  5000.0\n",
      "1      Bob   30  Los Angeles   60000  6000.0\n",
      "2  Charlie   35      Chicago   70000  7000.0\n",
      "3    David   40      Houston   80000  8000.0\n"
     ]
    }
   ],
   "source": [
    "df['Bonus'] = df['Salary'] * 0.1\n",
    "print(\"\\nWith bonus:\")\n",
    "print(df)"
   ]
  },
  {
   "cell_type": "markdown",
   "metadata": {},
   "source": [
    "Group by city:"
   ]
  },
  {
   "cell_type": "code",
   "execution_count": 18,
   "metadata": {},
   "outputs": [
    {
     "name": "stdout",
     "output_type": "stream",
     "text": [
      "City\n",
      "Chicago        35.0\n",
      "Houston        40.0\n",
      "Los Angeles    30.0\n",
      "New York       25.0\n",
      "Name: Age, dtype: float64\n"
     ]
    }
   ],
   "source": [
    "city_age_avg = df.groupby('City')['Age'].mean()\n",
    "\n",
    "print(city_age_avg)"
   ]
  }
 ],
 "metadata": {
  "kernelspec": {
   "display_name": "Python (my_jupyter_env)",
   "language": "python",
   "name": "my_jupyter_env"
  },
  "language_info": {
   "codemirror_mode": {
    "name": "ipython",
    "version": 3
   },
   "file_extension": ".py",
   "mimetype": "text/x-python",
   "name": "python",
   "nbconvert_exporter": "python",
   "pygments_lexer": "ipython3",
   "version": "3.10.12"
  }
 },
 "nbformat": 4,
 "nbformat_minor": 2
}
